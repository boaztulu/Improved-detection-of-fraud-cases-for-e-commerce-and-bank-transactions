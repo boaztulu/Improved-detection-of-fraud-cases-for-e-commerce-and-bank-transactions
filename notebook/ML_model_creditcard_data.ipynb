{
 "cells": [
  {
   "cell_type": "markdown",
   "metadata": {},
   "source": [
    "### Detection of fraudulent transactions in a credit card dataset."
   ]
  },
  {
   "cell_type": "markdown",
   "metadata": {},
   "source": [
    "##### Import Libraries"
   ]
  },
  {
   "cell_type": "code",
   "execution_count": null,
   "metadata": {},
   "outputs": [],
   "source": [
    "import shap\n",
    "import mlflow\n",
    "import numpy as np\n",
    "import pandas as pd\n",
    "import seaborn as sns\n",
    "import mlflow.sklearn\n",
    "import matplotlib.pyplot as plt\n",
    "from sklearn.tree import DecisionTreeClassifier\n",
    "from sklearn.preprocessing import StandardScaler\n",
    "from lime.lime_tabular import LimeTabularExplainer\n",
    "from sklearn.ensemble import RandomForestClassifier\n",
    "from sklearn.linear_model import LogisticRegression\n",
    "from sklearn.model_selection import train_test_split\n",
    "from sklearn.ensemble import GradientBoostingClassifier\n",
    "from sklearn.metrics import confusion_matrix, classification_report\n",
    "from sklearn.metrics import accuracy_score, precision_score, recall_score, f1_score"
   ]
  },
  {
   "cell_type": "code",
   "execution_count": 2,
   "metadata": {},
   "outputs": [],
   "source": [
    "mlflow.sklearn.autolog()"
   ]
  },
  {
   "cell_type": "markdown",
   "metadata": {},
   "source": [
    "##### Load data"
   ]
  },
  {
   "cell_type": "code",
   "execution_count": null,
   "metadata": {},
   "outputs": [
    {
     "data": {
      "text/html": [
       "<div>\n",
       "<style scoped>\n",
       "    .dataframe tbody tr th:only-of-type {\n",
       "        vertical-align: middle;\n",
       "    }\n",
       "\n",
       "    .dataframe tbody tr th {\n",
       "        vertical-align: top;\n",
       "    }\n",
       "\n",
       "    .dataframe thead th {\n",
       "        text-align: right;\n",
       "    }\n",
       "</style>\n",
       "<table border=\"1\" class=\"dataframe\">\n",
       "  <thead>\n",
       "    <tr style=\"text-align: right;\">\n",
       "      <th></th>\n",
       "      <th>Time</th>\n",
       "      <th>V1</th>\n",
       "      <th>V2</th>\n",
       "      <th>V3</th>\n",
       "      <th>V4</th>\n",
       "      <th>V5</th>\n",
       "      <th>V6</th>\n",
       "      <th>V7</th>\n",
       "      <th>V8</th>\n",
       "      <th>V9</th>\n",
       "      <th>...</th>\n",
       "      <th>V23</th>\n",
       "      <th>V24</th>\n",
       "      <th>V25</th>\n",
       "      <th>V26</th>\n",
       "      <th>V27</th>\n",
       "      <th>V28</th>\n",
       "      <th>Amount</th>\n",
       "      <th>Class</th>\n",
       "      <th>time_in_days</th>\n",
       "      <th>Amount_scaled</th>\n",
       "    </tr>\n",
       "  </thead>\n",
       "  <tbody>\n",
       "    <tr>\n",
       "      <th>0</th>\n",
       "      <td>0.0</td>\n",
       "      <td>-1.359807</td>\n",
       "      <td>-0.072781</td>\n",
       "      <td>2.536347</td>\n",
       "      <td>1.378155</td>\n",
       "      <td>-0.338321</td>\n",
       "      <td>0.462388</td>\n",
       "      <td>0.239599</td>\n",
       "      <td>0.098698</td>\n",
       "      <td>0.363787</td>\n",
       "      <td>...</td>\n",
       "      <td>-0.110474</td>\n",
       "      <td>0.066928</td>\n",
       "      <td>0.128539</td>\n",
       "      <td>-0.189115</td>\n",
       "      <td>0.133558</td>\n",
       "      <td>-0.021053</td>\n",
       "      <td>149.62</td>\n",
       "      <td>0</td>\n",
       "      <td>0.000000</td>\n",
       "      <td>0.244200</td>\n",
       "    </tr>\n",
       "    <tr>\n",
       "      <th>1</th>\n",
       "      <td>0.0</td>\n",
       "      <td>1.191857</td>\n",
       "      <td>0.266151</td>\n",
       "      <td>0.166480</td>\n",
       "      <td>0.448154</td>\n",
       "      <td>0.060018</td>\n",
       "      <td>-0.082361</td>\n",
       "      <td>-0.078803</td>\n",
       "      <td>0.085102</td>\n",
       "      <td>-0.255425</td>\n",
       "      <td>...</td>\n",
       "      <td>0.101288</td>\n",
       "      <td>-0.339846</td>\n",
       "      <td>0.167170</td>\n",
       "      <td>0.125895</td>\n",
       "      <td>-0.008983</td>\n",
       "      <td>0.014724</td>\n",
       "      <td>2.69</td>\n",
       "      <td>0</td>\n",
       "      <td>0.000000</td>\n",
       "      <td>-0.342584</td>\n",
       "    </tr>\n",
       "    <tr>\n",
       "      <th>2</th>\n",
       "      <td>1.0</td>\n",
       "      <td>-1.358354</td>\n",
       "      <td>-1.340163</td>\n",
       "      <td>1.773209</td>\n",
       "      <td>0.379780</td>\n",
       "      <td>-0.503198</td>\n",
       "      <td>1.800499</td>\n",
       "      <td>0.791461</td>\n",
       "      <td>0.247676</td>\n",
       "      <td>-1.514654</td>\n",
       "      <td>...</td>\n",
       "      <td>0.909412</td>\n",
       "      <td>-0.689281</td>\n",
       "      <td>-0.327642</td>\n",
       "      <td>-0.139097</td>\n",
       "      <td>-0.055353</td>\n",
       "      <td>-0.059752</td>\n",
       "      <td>378.66</td>\n",
       "      <td>0</td>\n",
       "      <td>0.000012</td>\n",
       "      <td>1.158900</td>\n",
       "    </tr>\n",
       "    <tr>\n",
       "      <th>3</th>\n",
       "      <td>1.0</td>\n",
       "      <td>-0.966272</td>\n",
       "      <td>-0.185226</td>\n",
       "      <td>1.792993</td>\n",
       "      <td>-0.863291</td>\n",
       "      <td>-0.010309</td>\n",
       "      <td>1.247203</td>\n",
       "      <td>0.237609</td>\n",
       "      <td>0.377436</td>\n",
       "      <td>-1.387024</td>\n",
       "      <td>...</td>\n",
       "      <td>-0.190321</td>\n",
       "      <td>-1.175575</td>\n",
       "      <td>0.647376</td>\n",
       "      <td>-0.221929</td>\n",
       "      <td>0.062723</td>\n",
       "      <td>0.061458</td>\n",
       "      <td>123.50</td>\n",
       "      <td>0</td>\n",
       "      <td>0.000012</td>\n",
       "      <td>0.139886</td>\n",
       "    </tr>\n",
       "    <tr>\n",
       "      <th>4</th>\n",
       "      <td>2.0</td>\n",
       "      <td>-1.158233</td>\n",
       "      <td>0.877737</td>\n",
       "      <td>1.548718</td>\n",
       "      <td>0.403034</td>\n",
       "      <td>-0.407193</td>\n",
       "      <td>0.095921</td>\n",
       "      <td>0.592941</td>\n",
       "      <td>-0.270533</td>\n",
       "      <td>0.817739</td>\n",
       "      <td>...</td>\n",
       "      <td>-0.137458</td>\n",
       "      <td>0.141267</td>\n",
       "      <td>-0.206010</td>\n",
       "      <td>0.502292</td>\n",
       "      <td>0.219422</td>\n",
       "      <td>0.215153</td>\n",
       "      <td>69.99</td>\n",
       "      <td>0</td>\n",
       "      <td>0.000023</td>\n",
       "      <td>-0.073813</td>\n",
       "    </tr>\n",
       "  </tbody>\n",
       "</table>\n",
       "<p>5 rows × 33 columns</p>\n",
       "</div>"
      ],
      "text/plain": [
       "   Time        V1        V2        V3        V4        V5        V6        V7  \\\n",
       "0   0.0 -1.359807 -0.072781  2.536347  1.378155 -0.338321  0.462388  0.239599   \n",
       "1   0.0  1.191857  0.266151  0.166480  0.448154  0.060018 -0.082361 -0.078803   \n",
       "2   1.0 -1.358354 -1.340163  1.773209  0.379780 -0.503198  1.800499  0.791461   \n",
       "3   1.0 -0.966272 -0.185226  1.792993 -0.863291 -0.010309  1.247203  0.237609   \n",
       "4   2.0 -1.158233  0.877737  1.548718  0.403034 -0.407193  0.095921  0.592941   \n",
       "\n",
       "         V8        V9  ...       V23       V24       V25       V26       V27  \\\n",
       "0  0.098698  0.363787  ... -0.110474  0.066928  0.128539 -0.189115  0.133558   \n",
       "1  0.085102 -0.255425  ...  0.101288 -0.339846  0.167170  0.125895 -0.008983   \n",
       "2  0.247676 -1.514654  ...  0.909412 -0.689281 -0.327642 -0.139097 -0.055353   \n",
       "3  0.377436 -1.387024  ... -0.190321 -1.175575  0.647376 -0.221929  0.062723   \n",
       "4 -0.270533  0.817739  ... -0.137458  0.141267 -0.206010  0.502292  0.219422   \n",
       "\n",
       "        V28  Amount  Class  time_in_days  Amount_scaled  \n",
       "0 -0.021053  149.62      0      0.000000       0.244200  \n",
       "1  0.014724    2.69      0      0.000000      -0.342584  \n",
       "2 -0.059752  378.66      0      0.000012       1.158900  \n",
       "3  0.061458  123.50      0      0.000012       0.139886  \n",
       "4  0.215153   69.99      0      0.000023      -0.073813  \n",
       "\n",
       "[5 rows x 33 columns]"
      ]
     },
     "execution_count": 3,
     "metadata": {},
     "output_type": "execute_result"
    }
   ],
   "source": [
    "df = pd.read_csv('cleaned_data/Preprocessed_Creditcard_Data.csv')\n",
    "df.head()"
   ]
  },
  {
   "cell_type": "markdown",
   "metadata": {},
   "source": [
    "##### Visual class distribution"
   ]
  },
  {
   "cell_type": "code",
   "execution_count": 4,
   "metadata": {},
   "outputs": [
    {
     "name": "stdout",
     "output_type": "stream",
     "text": [
      "Class\n",
      "0    283253\n",
      "1       473\n",
      "Name: count, dtype: int64\n"
     ]
    },
    {
     "data": {
      "image/png": "[encoded data removed]",
      "text/plain": [
       "<Figure size 800x600 with 1 Axes>"
      ]
     },
     "metadata": {},
     "output_type": "display_data"
    }
   ],
   "source": [
    "# Visualize Class distribution\n",
    "class_counts = df['Class'].value_counts()\n",
    "print(class_counts)\n",
    "\n",
    "# Visualize class distribution\n",
    "plt.figure(figsize=(8, 6))\n",
    "sns.countplot(x='Class', data=df)\n",
    "plt.title('Class Distribution')\n",
    "plt.show()"
   ]
  },
  {
   "cell_type": "markdown",
   "metadata": {},
   "source": [
    "##### Feature-Target Separation and Data Splitting"
   ]
  },
  {
   "cell_type": "code",
   "execution_count": 5,
   "metadata": {},
   "outputs": [],
   "source": [
    "X = df.drop('Class', axis=1)\n",
    "y = df['Class']"
   ]
  },
  {
   "cell_type": "markdown",
   "metadata": {},
   "source": [
    "##### Using SMOTE (Synthetic Minority Over-sampling Technique) to generate synthetic data"
   ]
  },
  {
   "cell_type": "code",
   "execution_count": 22,
   "metadata": {},
   "outputs": [
    {
     "name": "stdout",
     "output_type": "stream",
     "text": [
      "Class\n",
      "0    283253\n",
      "1    283253\n",
      "Name: count, dtype: int64\n"
     ]
    }
   ],
   "source": [
    "from imblearn.over_sampling import SMOTE\n",
    "\n",
    "smote = SMOTE(sampling_strategy='auto', random_state=42)\n",
    "X_resampled, y_resampled = smote.fit_resample(X, y)\n",
    "\n",
    "X_train = X_resampled\n",
    "y_train = y_resampled\n",
    "\n",
    "class_counts = y_train.value_counts()\n",
    "print(class_counts)\n",
    "\n",
    "X_train, X_test, y_train, y_test = train_test_split(X_train, y_train, test_size=0.2, random_state=42)"
   ]
  },
  {
   "cell_type": "code",
   "execution_count": 23,
   "metadata": {},
   "outputs": [
    {
     "data": {
      "text/plain": [
       "['Time',\n",
       " 'V1',\n",
       " 'V2',\n",
       " 'V3',\n",
       " 'V4',\n",
       " 'V5',\n",
       " 'V6',\n",
       " 'V7',\n",
       " 'V8',\n",
       " 'V9',\n",
       " 'V10',\n",
       " 'V11',\n",
       " 'V12',\n",
       " 'V13',\n",
       " 'V14',\n",
       " 'V15',\n",
       " 'V16',\n",
       " 'V17',\n",
       " 'V18',\n",
       " 'V19',\n",
       " 'V20',\n",
       " 'V21',\n",
       " 'V22',\n",
       " 'V23',\n",
       " 'V24',\n",
       " 'V25',\n",
       " 'V26',\n",
       " 'V27',\n",
       " 'V28',\n",
       " 'Amount',\n",
       " 'time_in_days',\n",
       " 'Amount_scaled']"
      ]
     },
     "execution_count": 23,
     "metadata": {},
     "output_type": "execute_result"
    }
   ],
   "source": [
    "X_train.columns.tolist() "
   ]
  },
  {
   "cell_type": "markdown",
   "metadata": {},
   "source": [
    "##### Scaling the Features"
   ]
  },
  {
   "cell_type": "code",
   "execution_count": 7,
   "metadata": {},
   "outputs": [],
   "source": [
    "scaler = StandardScaler()\n",
    "X_train = scaler.fit_transform(X_train)\n",
    "X_test = scaler.transform(X_test)"
   ]
  },
  {
   "cell_type": "markdown",
   "metadata": {},
   "source": [
    "#### Tracking with MLflow"
   ]
  },
  {
   "cell_type": "code",
   "execution_count": null,
   "metadata": {},
   "outputs": [],
   "source": [
    "import os \n",
    "import joblib\n",
    "# saving the models\n",
    "save_folder = 'saved_models'\n",
    "os.makedirs(save_folder, exist_ok=True) \n",
    "\n",
    "# Function to save scikit-learn models\n",
    "def save_sklearn_model(model, model_name):\n",
    "    save_path = os.path.join(save_folder, f'{model_name}.joblib')\n",
    "    joblib.dump(model, save_path)\n",
    "    print(f'{model_name} saved at {save_path}')\n"
   ]
  },
  {
   "cell_type": "code",
   "execution_count": 10,
   "metadata": {},
   "outputs": [],
   "source": [
    "# Function to log experiments with MLflow\n",
    "def log_experiment(model_name, model, X_train, X_test, y_train, y_test, params=None):\n",
    "    with mlflow.start_run(run_name=model_name):\n",
    "        # Fit the model\n",
    "        model.fit(X_train, y_train)\n",
    "        \n",
    "        # Make predictions\n",
    "        y_pred = model.predict(X_test)\n",
    "        \n",
    "        # Calculate metrics\n",
    "        accuracy = accuracy_score(y_test, y_pred)\n",
    "        precision = precision_score(y_test, y_pred)\n",
    "        recall = recall_score(y_test, y_pred)\n",
    "        f1 = f1_score(y_test, y_pred)\n",
    "        \n",
    "        # Log parameters if provided\n",
    "        if params:\n",
    "            for key, value in params.items():\n",
    "                mlflow.log_param(key, value)\n",
    "        \n",
    "        # Log metrics\n",
    "        mlflow.log_metric(\"accuracy\", accuracy)\n",
    "        mlflow.log_metric(\"precision\", precision)\n",
    "        mlflow.log_metric(\"recall\", recall)\n",
    "        mlflow.log_metric(\"f1_score\", f1)\n",
    "        \n",
    "        # Log the model\n",
    "        mlflow.sklearn.log_model(model, model_name)\n",
    "        \n",
    "        print(f\"Model: {model_name}\")\n",
    "        print(f\"Accuracy: {accuracy}, Precision: {precision}, Recall: {recall}, F1 Score: {f1}\")\n",
    "        save_sklearn_model(model, model_name)\n",
    "        print('model saved')"
   ]
  },
  {
   "cell_type": "markdown",
   "metadata": {},
   "source": [
    "##### Training a Logistic Regression Model"
   ]
  },
  {
   "cell_type": "code",
   "execution_count": null,
   "metadata": {},
   "outputs": [],
   "source": [
    "# Logistic Regression\n",
    "log_reg = LogisticRegression(max_iter=1000)\n",
    "log_experiment(\"Logistic Regression\", log_reg, X_train, X_test, y_train, y_test, \n",
    "               params={\"max_iter\": 1000})"
   ]
  },
  {
   "cell_type": "markdown",
   "metadata": {},
   "source": [
    "##### Training a Random forest model"
   ]
  },
  {
   "cell_type": "code",
   "execution_count": null,
   "metadata": {},
   "outputs": [],
   "source": [
    "# Random Forest\n",
    "rand_forest = RandomForestClassifier(n_estimators=100, max_depth=10, random_state=42)\n",
    "log_experiment(\"Random Forest\", rand_forest, X_train, X_test, y_train, y_test, \n",
    "               params={\"n_estimators\": 100, \"max_depth\": 10})\n"
   ]
  },
  {
   "cell_type": "markdown",
   "metadata": {},
   "source": [
    "##### Training a Gradient Boosting Model"
   ]
  },
  {
   "cell_type": "code",
   "execution_count": null,
   "metadata": {},
   "outputs": [],
   "source": [
    "# Gradient Boosting\n",
    "grad_boost = GradientBoostingClassifier(n_estimators=100, learning_rate=0.1, random_state=42)\n",
    "log_experiment(\"Gradient Boosting\", grad_boost, X_train, X_test, y_train, y_test, \n",
    "               params={\"n_estimators\": 100, \"learning_rate\": 0.1})"
   ]
  },
  {
   "cell_type": "markdown",
   "metadata": {},
   "source": [
    "##### Training a DecisionTree Model"
   ]
  },
  {
   "cell_type": "code",
   "execution_count": null,
   "metadata": {},
   "outputs": [],
   "source": [
    "# Decision Tree\n",
    "dec_tree = DecisionTreeClassifier(max_depth=5, random_state=42)\n",
    "log_experiment(\"Decision Tree\", dec_tree, X_train, X_test, y_train, y_test, \n",
    "               params={\"max_depth\": 5})"
   ]
  },
  {
   "cell_type": "markdown",
   "metadata": {},
   "source": [
    "### Model Explanability using shap"
   ]
  },
  {
   "cell_type": "code",
   "execution_count": 20,
   "metadata": {},
   "outputs": [],
   "source": [
    "import shap\n",
    "import mlflow\n",
    "import joblib\n",
    "from sklearn.linear_model import LogisticRegression\n",
    "import numpy as np\n",
    "from sklearn.metrics import accuracy_score, precision_score, recall_score, f1_score\n",
    "\n",
    "def log_experiment_with_shap(model_name, model, X_train, X_test, y_train, y_test, params=None):\n",
    "    # Ensure X_train and X_test are DataFrames to access feature names\n",
    "    if not isinstance(X_train, pd.DataFrame):\n",
    "        raise ValueError(\"X_train must be a pandas DataFrame.\")\n",
    "    if not isinstance(X_test, pd.DataFrame):\n",
    "        raise ValueError(\"X_test must be a pandas DataFrame.\")\n",
    "\n",
    "    with mlflow.start_run(run_name=model_name):\n",
    "        \n",
    "        # SHAP Explanation for Logistic Regression using KernelExplainer\n",
    "        if model_name == \"Logistic Regression\":\n",
    "            # Use KernelExplainer for Logistic Regression\n",
    "            background = shap.sample(X_train, 100)  # Sampling a smaller set for the background\n",
    "            explainer = shap.KernelExplainer(model.predict, background)\n",
    "            \n",
    "            # Subsample the test set to handle large data (optional for memory efficiency)\n",
    "            X_test_sample = X_test.sample(n=100, random_state=42)\n",
    "\n",
    "            # Get SHAP values\n",
    "            shap_values = explainer.shap_values(X_test_sample)\n",
    "            \n",
    "            # Summary plot with feature names\n",
    "            shap.summary_plot(shap_values, X_test_sample, plot_type=\"bar\", feature_names=X_test.columns)\n",
    "\n",
    "        elif model_name in [\"Gradient Boosting\", \"Random Forest\", \"Decision Tree\"]:\n",
    "            explainer = shap.TreeExplainer(model)\n",
    "            shap_values = explainer.shap_values(X_test)\n",
    "            \n",
    "            # Summary plot with feature names\n",
    "            shap.summary_plot(shap_values, X_test, max_display=32, feature_names=X_test.columns)\n",
    "\n",
    "        # Logging metrics\n",
    "        y_pred = model.predict(X_test)\n",
    "        acc = accuracy_score(y_test, y_pred)\n",
    "        prec = precision_score(y_test, y_pred)\n",
    "        rec = recall_score(y_test, y_pred)\n",
    "        f1 = f1_score(y_test, y_pred)\n",
    "\n",
    "        # Log parameters and metrics to MLflow\n",
    "        if params:\n",
    "            mlflow.log_params(params)\n",
    "        mlflow.log_metric(\"accuracy\", acc)\n",
    "        mlflow.log_metric(\"precision\", prec)\n",
    "        mlflow.log_metric(\"recall\", rec)\n",
    "        mlflow.log_metric(\"f1_score\", f1)\n",
    "        \n",
    "        print(f\"Model: {model_name} | Accuracy: {acc:.4f} | Precision: {prec:.4f} | Recall: {rec:.4f} | F1 Score: {f1:.4f}\")"
   ]
  },
  {
   "cell_type": "markdown",
   "metadata": {},
   "source": [
    "##### Logistic regression"
   ]
  },
  {
   "cell_type": "code",
   "execution_count": null,
   "metadata": {},
   "outputs": [],
   "source": [
    "model_name = \"Logistic Regression\"\n",
    "model_path = \"saved_models/Logistic Regression.joblib\"  \n",
    "model = joblib.load(model_path)\n",
    "\n",
    "log_experiment_with_shap(\n",
    "    model_name=model_name,\n",
    "    model=model,\n",
    "    X_train=X_train,         \n",
    "    X_test=X_test,          \n",
    "    y_train=y_train,         \n",
    "    y_test=y_test,          \n",
    "    params={\"C\": 1.0}        \n",
    ")"
   ]
  },
  {
   "cell_type": "markdown",
   "metadata": {},
   "source": [
    "##### Decision Tree"
   ]
  },
  {
   "cell_type": "code",
   "execution_count": null,
   "metadata": {},
   "outputs": [],
   "source": [
    "model_name = \"Decision Tree\"\n",
    "model_path = \"saved_models/Decision Tree.joblib\"  \n",
    "model = joblib.load(model_path)\n",
    "\n",
    "log_experiment_with_shap(\n",
    "    model_name=model_name,\n",
    "    model=model,\n",
    "    X_train=X_train,         \n",
    "    X_test=X_test,          \n",
    "    y_train=y_train,         \n",
    "    y_test=y_test,          \n",
    "    params={\"max_depth\": 10}       \n",
    ")"
   ]
  },
  {
   "cell_type": "markdown",
   "metadata": {},
   "source": [
    "##### RandomForest"
   ]
  },
  {
   "cell_type": "code",
   "execution_count": null,
   "metadata": {},
   "outputs": [],
   "source": [
    "model_name = \"Random Forest\"\n",
    "model_path = \"saved_models/Random Forest.joblib\"  \n",
    "model = joblib.load(model_path)\n",
    "\n",
    "log_experiment_with_shap(\n",
    "    model_name=model_name,\n",
    "    model=model,\n",
    "    X_train=X_train,         \n",
    "    X_test=X_test,          \n",
    "    y_train=y_train,         \n",
    "    y_test=y_test,          \n",
    "    params={\"n_estimators\": 100}\n",
    ")"
   ]
  },
  {
   "cell_type": "markdown",
   "metadata": {},
   "source": [
    "##### GradientBoosting"
   ]
  },
  {
   "cell_type": "code",
   "execution_count": null,
   "metadata": {},
   "outputs": [],
   "source": [
    "model_name = \"Gradient Boosting\"\n",
    "model_path = \"saved_models/Gradient Boosting.joblib\"  \n",
    "model = joblib.load(model_path)\n",
    "\n",
    "log_experiment_with_shap(\n",
    "    model_name=model_name,\n",
    "    model=model,\n",
    "    X_train=X_train,         \n",
    "    X_test=X_test,          \n",
    "    y_train=y_train,         \n",
    "    y_test=y_test,          \n",
    "    params={\"n_estimators\": 100, \"learning_rate\": 0.1}\n",
    ")"
   ]
  },
  {
   "cell_type": "markdown",
   "metadata": {},
   "source": [
    "### Model Explanability using Lime"
   ]
  },
  {
   "cell_type": "code",
   "execution_count": 31,
   "metadata": {},
   "outputs": [],
   "source": [
    "import mlflow\n",
    "import mlflow.sklearn\n",
    "from lime.lime_tabular import LimeTabularExplainer\n",
    "import joblib\n",
    "import numpy as np\n",
    "import pandas as pd\n",
    "\n",
    "# Disable autologging for scikit-learn to avoid conflicts\n",
    "mlflow.sklearn.autolog(disable=True)\n",
    "\n",
    "def log_experiment_with_lime(model_name, model_path, X_train, X_test, y_train, y_test, sample_index=0, params=None, show_in_notebook=True):\n",
    "    # Load the pre-trained model\n",
    "    model = joblib.load(model_path)\n",
    "    \n",
    "    # Ensure X_train and X_test are handled consistently as arrays\n",
    "    if isinstance(X_train, pd.DataFrame):\n",
    "        feature_names = X_train.columns.tolist()  # Get actual feature names from X_train DataFrame\n",
    "        X_train_values = X_train.values\n",
    "    else:\n",
    "        feature_names = [f'Feature_{i}' for i in range(model.n_features_in_)]  # Placeholder names\n",
    "        X_train_values = X_train\n",
    "\n",
    "    # Use all features from X_test for explanations\n",
    "    if isinstance(X_test, pd.DataFrame):\n",
    "        X_test_values = X_test.values  # Get all features\n",
    "        instance = X_test.iloc[sample_index].values  # Use specified sample_index\n",
    "    else:\n",
    "        X_test_values = X_test  # Get all features as array\n",
    "        instance = X_test[sample_index]  # Use specified sample_index\n",
    "    \n",
    "    # Start an MLflow run\n",
    "    with mlflow.start_run(run_name=model_name):\n",
    "        \n",
    "        # Log model parameters if provided\n",
    "        if params is not None:\n",
    "            mlflow.log_params(params)\n",
    "        \n",
    "        # Log the trained model with an input example\n",
    "        input_example = np.array([X_train_values[0]])  # Use first row as an example\n",
    "        mlflow.sklearn.log_model(model, model_name, input_example=input_example)\n",
    "        \n",
    "        # Initialize the LimeTabularExplainer with actual feature names\n",
    "        explainer = LimeTabularExplainer(\n",
    "            training_data=X_train_values,  # Use all training features\n",
    "            mode='classification', \n",
    "            feature_names=feature_names,  # Use all feature names\n",
    "            class_names=np.unique(y_train).tolist(), \n",
    "            discretize_continuous=True\n",
    "        )\n",
    "        \n",
    "        # Generate explanation for the specified instance in X_test\n",
    "        exp = explainer.explain_instance(\n",
    "            instance,\n",
    "            model.predict_proba,\n",
    "            num_features=10  # Show all features\n",
    "        )\n",
    "        \n",
    "        # Plot the explanation using Matplotlib\n",
    "        plt.figure(figsize=(10, 5))\n",
    "        exp.as_pyplot_figure()\n",
    "        plt.title(f'LIME Explanation for Sample {sample_index}')\n",
    "        plt.show()\n",
    "\n",
    "        # Print some information\n",
    "        print(f\"Model: {model_name}\")\n",
    "\n",
    "\n",
    "# Ensure the sample_index you want to test is consistent across different models\n",
    "sample_index = 0  # Change this index as needed for different instances"
   ]
  },
  {
   "cell_type": "markdown",
   "metadata": {},
   "source": [
    "##### Logistic Regression"
   ]
  },
  {
   "cell_type": "code",
   "execution_count": null,
   "metadata": {},
   "outputs": [
    {
     "name": "stderr",
     "output_type": "stream",
     "text": [
      "Downloading artifacts: 100%|██████████| 7/7 [00:00<00:00, 680.96it/s]\n"
     ]
    },
    {
     "data": {
      "text/plain": [
       "<Figure size 1000x500 with 0 Axes>"
      ]
     },
     "metadata": {},
     "output_type": "display_data"
    },
    {
     "data": {
      "image/png": "[encoded data removed]",
      "text/plain": [
       "<Figure size 640x480 with 1 Axes>"
      ]
     },
     "metadata": {},
     "output_type": "display_data"
    },
    {
     "name": "stdout",
     "output_type": "stream",
     "text": [
      "Model: Logistic Regression\n"
     ]
    }
   ],
   "source": [
    "# Load your saved Logistic Regression model\n",
    "params={\"max_iter\": 100}\n",
    "\n",
    "log_experiment_with_lime(\n",
    "    model_name=\"Logistic Regression\",\n",
    "    model_path='saved_models/Logistic Regression.joblib',\n",
    "    X_train=X_train,         \n",
    "    X_test=X_test,           \n",
    "    y_train=y_train,         \n",
    "    y_test=y_test,\n",
    "    sample_index=sample_index,           \n",
    "    params=params,           \n",
    "    show_in_notebook=True     \n",
    ")"
   ]
  },
  {
   "cell_type": "markdown",
   "metadata": {},
   "source": [
    "##### Decision Tree"
   ]
  },
  {
   "cell_type": "code",
   "execution_count": null,
   "metadata": {},
   "outputs": [
    {
     "name": "stderr",
     "output_type": "stream",
     "text": [
      "Downloading artifacts: 100%|██████████| 7/7 [00:00<00:00, 636.30it/s] \n"
     ]
    },
    {
     "data": {
      "text/plain": [
       "<Figure size 1000x500 with 0 Axes>"
      ]
     },
     "metadata": {},
     "output_type": "display_data"
    },
    {
     "data": {
      "image/png": "[encoded data removed]",
      "text/plain": [
       "<Figure size 640x480 with 1 Axes>"
      ]
     },
     "metadata": {},
     "output_type": "display_data"
    },
    {
     "name": "stdout",
     "output_type": "stream",
     "text": [
      "Model: Decision Tree\n"
     ]
    }
   ],
   "source": [
    "# Load your saved Decision Tree model\n",
    "params={\"max_depth\": 5}\n",
    "\n",
    "log_experiment_with_lime(\n",
    "    model_name=\"Decision Tree\",\n",
    "    model_path='saved_models/Decision Tree.joblib',\n",
    "    X_train=X_train,         \n",
    "    X_test=X_test,           \n",
    "    y_train=y_train,         \n",
    "    y_test=y_test,\n",
    "    sample_index=sample_index,           \n",
    "    params=params,           \n",
    "    show_in_notebook=True    \n",
    ")"
   ]
  },
  {
   "cell_type": "markdown",
   "metadata": {},
   "source": [
    "##### Gradient Boosting"
   ]
  },
  {
   "cell_type": "code",
   "execution_count": null,
   "metadata": {},
   "outputs": [
    {
     "name": "stderr",
     "output_type": "stream",
     "text": [
      "Downloading artifacts: 100%|██████████| 7/7 [00:00<00:00, 582.82it/s]\n"
     ]
    },
    {
     "data": {
      "text/plain": [
       "<Figure size 1000x500 with 0 Axes>"
      ]
     },
     "metadata": {},
     "output_type": "display_data"
    },
    {
     "data": {
      "image/png": "[encoded data removed]",
      "text/plain": [
       "<Figure size 640x480 with 1 Axes>"
      ]
     },
     "metadata": {},
     "output_type": "display_data"
    },
    {
     "name": "stdout",
     "output_type": "stream",
     "text": [
      "Model: Gradient_Boosting\n"
     ]
    }
   ],
   "source": [
    "# Load your saved Gradient boosting model\n",
    "params={\"n_estimators\": 100, \"learning_rate\": 0.1}\n",
    "\n",
    "log_experiment_with_lime(\n",
    "    model_name=\"Gradient_Boosting\",\n",
    "    model_path='saved_models/Gradient Boosting.joblib',\n",
    "    X_train=X_train,         \n",
    "    X_test=X_test,           \n",
    "    y_train=y_train,         \n",
    "    y_test=y_test,  \n",
    "    sample_index=sample_index,         \n",
    "    params=params,           \n",
    "    show_in_notebook=True    \n",
    ")"
   ]
  },
  {
   "cell_type": "markdown",
   "metadata": {},
   "source": [
    "##### Random forest"
   ]
  },
  {
   "cell_type": "code",
   "execution_count": null,
   "metadata": {},
   "outputs": [
    {
     "name": "stderr",
     "output_type": "stream",
     "text": [
      "Downloading artifacts: 100%|██████████| 7/7 [00:00<00:00, 616.37it/s] \n"
     ]
    },
    {
     "data": {
      "text/plain": [
       "<Figure size 1000x500 with 0 Axes>"
      ]
     },
     "metadata": {},
     "output_type": "display_data"
    },
    {
     "data": {
      "image/png": "[encoded data removed]",
      "text/plain": [
       "<Figure size 640x480 with 1 Axes>"
      ]
     },
     "metadata": {},
     "output_type": "display_data"
    },
    {
     "name": "stdout",
     "output_type": "stream",
     "text": [
      "Model: RandomForestClassifier\n"
     ]
    }
   ],
   "source": [
    "params = {\"n_estimators\": 100, \"max_depth\": 10}\n",
    "\n",
    "log_experiment_with_lime(\n",
    "    model_name=\"RandomForestClassifier\",\n",
    "    model_path=\"saved_models/Random Forest.joblib\",\n",
    "    X_train=X_train,        \n",
    "    X_test=X_test,          \n",
    "    y_train=y_train,        \n",
    "    y_test=y_test,  \n",
    "    sample_index=sample_index,         \n",
    "    params=params,           \n",
    "    show_in_notebook=True    \n",
    ")"
   ]
  }
 ],
 "metadata": {
  "kernelspec": {
   "display_name": "\"Python/Mu (mu_venv-38-20250122-094348)\"",
   "language": "python",
   "name": "mu_venv-38-20250122-094348"
  },
  "language_info": {
   "codemirror_mode": {
    "name": "ipython",
    "version": 3
   },
   "file_extension": ".py",
   "mimetype": "text/x-python",
   "name": "python",
   "nbconvert_exporter": "python",
   "pygments_lexer": "ipython3",
   "version": "3.8.12"
  }
 },
 "nbformat": 4,
 "nbformat_minor": 2
}
